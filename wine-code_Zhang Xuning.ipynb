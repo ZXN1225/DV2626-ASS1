{
 "cells": [
  {
   "cell_type": "code",
   "execution_count": 1,
   "id": "b6884204-e3ba-4966-a067-d475467ad763",
   "metadata": {},
   "outputs": [
    {
     "name": "stdout",
     "output_type": "stream",
     "text": [
      "   fixed acidity  volatile acidity  citric acid  residual sugar  chlorides  \\\n",
      "0            7.4              0.70         0.00             1.9      0.076   \n",
      "1            7.8              0.88         0.00             2.6      0.098   \n",
      "2            7.8              0.76         0.04             2.3      0.092   \n",
      "3           11.2              0.28         0.56             1.9      0.075   \n",
      "4            7.4              0.70         0.00             1.9      0.076   \n",
      "\n",
      "   free sulfur dioxide  total sulfur dioxide  density    pH  sulphates  \\\n",
      "0                 11.0                  34.0   0.9978  3.51       0.56   \n",
      "1                 25.0                  67.0   0.9968  3.20       0.68   \n",
      "2                 15.0                  54.0   0.9970  3.26       0.65   \n",
      "3                 17.0                  60.0   0.9980  3.16       0.58   \n",
      "4                 11.0                  34.0   0.9978  3.51       0.56   \n",
      "\n",
      "   alcohol  quality  \n",
      "0      9.4        5  \n",
      "1      9.8        5  \n",
      "2      9.8        5  \n",
      "3      9.8        6  \n",
      "4      9.4        5  \n",
      "<class 'pandas.core.frame.DataFrame'>\n",
      "RangeIndex: 1599 entries, 0 to 1598\n",
      "Data columns (total 12 columns):\n",
      " #   Column                Non-Null Count  Dtype  \n",
      "---  ------                --------------  -----  \n",
      " 0   fixed acidity         1599 non-null   float64\n",
      " 1   volatile acidity      1599 non-null   float64\n",
      " 2   citric acid           1599 non-null   float64\n",
      " 3   residual sugar        1599 non-null   float64\n",
      " 4   chlorides             1599 non-null   float64\n",
      " 5   free sulfur dioxide   1599 non-null   float64\n",
      " 6   total sulfur dioxide  1599 non-null   float64\n",
      " 7   density               1599 non-null   float64\n",
      " 8   pH                    1599 non-null   float64\n",
      " 9   sulphates             1599 non-null   float64\n",
      " 10  alcohol               1599 non-null   float64\n",
      " 11  quality               1599 non-null   int64  \n",
      "dtypes: float64(11), int64(1)\n",
      "memory usage: 150.0 KB\n",
      "None\n",
      "quality\n",
      "5    681\n",
      "6    638\n",
      "7    199\n",
      "4     53\n",
      "8     18\n",
      "3     10\n",
      "Name: count, dtype: int64\n"
     ]
    },
    {
     "data": {
      "image/png": "[encoded data removed]",
      "text/plain": [
       "<Figure size 800x400 with 1 Axes>"
      ]
     },
     "metadata": {},
     "output_type": "display_data"
    }
   ],
   "source": [
    "import pandas as pd\n",
    "import matplotlib.pyplot as plt\n",
    "from sklearn.model_selection import train_test_split, RepeatedKFold, cross_val_score\n",
    "from sklearn.preprocessing import StandardScaler\n",
    "from sklearn.ensemble import RandomForestClassifier\n",
    "from sklearn.svm import SVC\n",
    "from imblearn.over_sampling import SMOTE\n",
    "from sklearn.metrics import classification_report\n",
    "from collections import Counter\n",
    "\n",
    "# Load dataset\n",
    "df = pd.read_csv('winequality-red.csv',delimiter=';')  \n",
    "\n",
    "# Inspect the dataset\n",
    "print(df.head())\n",
    "print(df.info())\n",
    "print(df['quality'].value_counts())\n",
    "\n",
    "# Plot class distribution\n",
    "plt.figure(figsize=(8, 4))\n",
    "df['quality'].value_counts().sort_index().plot(kind='bar')\n",
    "plt.title('Class Distribution')\n",
    "plt.xlabel('Quality')\n",
    "plt.ylabel('Frequency')\n",
    "plt.show()"
   ]
  },
  {
   "cell_type": "code",
   "execution_count": 2,
   "id": "0015ce14-4c84-4848-80a3-2c6dfa7a0993",
   "metadata": {},
   "outputs": [],
   "source": [
    "#extract and split data\n",
    "X = df.drop('quality', axis=1)\n",
    "y = df['quality']\n",
    "\n",
    "X_train, X_test, y_train, y_test = train_test_split(X, y, test_size=0.2, random_state=42, stratify=y)"
   ]
  },
  {
   "cell_type": "code",
   "execution_count": 3,
   "id": "621a8afd-7939-464b-a969-4a35b9179afb",
   "metadata": {},
   "outputs": [],
   "source": [
    "#scaling\n",
    "scaler = StandardScaler()\n",
    "X_train_scaled = scaler.fit_transform(X_train)\n",
    "X_test_scaled = scaler.transform(X_test)"
   ]
  },
  {
   "cell_type": "code",
   "execution_count": 4,
   "id": "ac17ed38-a049-4df2-98de-3d0fbc1163da",
   "metadata": {},
   "outputs": [
    {
     "name": "stdout",
     "output_type": "stream",
     "text": [
      "RamdomForest - Accuracy: 0.655 (+/- 0.021)\n",
      "SVM - Accuracy: 0.502 (+/- 0.019)\n",
      "Best classifier:RamdomForest\n"
     ]
    }
   ],
   "source": [
    "#compare and select classifiers\n",
    "clf1 = RandomForestClassifier(random_state=42)\n",
    "clf2 = SVC(random_state=42)\n",
    "\n",
    "crossV = RepeatedKFold(n_splits = 3, n_repeats = 10)\n",
    "\n",
    "best_score = 0\n",
    "best_clf = None\n",
    "clf_name = ''\n",
    "for clf,name in zip([clf1,clf2],['RamdomForest','SVM']):\n",
    "    scores = cross_val_score(clf,X_train,y_train,cv=crossV,scoring='accuracy')\n",
    "    mean_scores = scores.mean()\n",
    "    print(f\"{name} - Accuracy: {mean_scores:.3f} (+/- {scores.std():.3f})\")\n",
    "    if mean_scores>best_score:\n",
    "        best_score = mean_scores\n",
    "        best_clf = clf\n",
    "        clf_name = name\n",
    "\n",
    "print(f\"Best classifier:{clf_name}\")"
   ]
  },
  {
   "cell_type": "code",
   "execution_count": 6,
   "id": "59663d90-4ecd-4814-8491-dfef0ca861cd",
   "metadata": {},
   "outputs": [
    {
     "name": "stdout",
     "output_type": "stream",
     "text": [
      "Test Accuracy: 0.675\n",
      "Classification Report:\n",
      "              precision    recall  f1-score   support\n",
      "\n",
      "           3       0.00      0.00      0.00         2\n",
      "           4       0.00      0.00      0.00        11\n",
      "           5       0.71      0.76      0.73       136\n",
      "           6       0.64      0.70      0.67       128\n",
      "           7       0.71      0.55      0.62        40\n",
      "           8       0.50      0.33      0.40         3\n",
      "\n",
      "    accuracy                           0.68       320\n",
      "   macro avg       0.43      0.39      0.40       320\n",
      "weighted avg       0.65      0.68      0.66       320\n",
      "\n",
      "     Actual  Predicted\n",
      "963       6          6\n",
      "475       5          6\n",
      "1         5          5\n",
      "329       5          6\n",
      "149       6          5\n"
     ]
    },
    {
     "name": "stderr",
     "output_type": "stream",
     "text": [
      "C:\\Program Files\\Python311\\Lib\\site-packages\\sklearn\\metrics\\_classification.py:1531: UndefinedMetricWarning: Precision is ill-defined and being set to 0.0 in labels with no predicted samples. Use `zero_division` parameter to control this behavior.\n",
      "  _warn_prf(average, modifier, f\"{metric.capitalize()} is\", len(result))\n",
      "C:\\Program Files\\Python311\\Lib\\site-packages\\sklearn\\metrics\\_classification.py:1531: UndefinedMetricWarning: Precision is ill-defined and being set to 0.0 in labels with no predicted samples. Use `zero_division` parameter to control this behavior.\n",
      "  _warn_prf(average, modifier, f\"{metric.capitalize()} is\", len(result))\n",
      "C:\\Program Files\\Python311\\Lib\\site-packages\\sklearn\\metrics\\_classification.py:1531: UndefinedMetricWarning: Precision is ill-defined and being set to 0.0 in labels with no predicted samples. Use `zero_division` parameter to control this behavior.\n",
      "  _warn_prf(average, modifier, f\"{metric.capitalize()} is\", len(result))\n"
     ]
    }
   ],
   "source": [
    "#Show performance with the best classifier\n",
    "best_clf.fit(X_train_scaled,y_train)\n",
    "\n",
    "test_accuracy = best_clf.score(X_test_scaled,y_test)\n",
    "print(f\"Test Accuracy: {test_accuracy:.3f}\")\n",
    "\n",
    "y_pred = best_clf.predict(X_test_scaled)\n",
    "print(\"Classification Report:\")\n",
    "print(classification_report(y_test, y_pred))\n",
    "results = pd.DataFrame({'Actual': y_test, 'Predicted': y_pred})\n",
    "print(results.head()) "
   ]
  },
  {
   "cell_type": "code",
   "execution_count": 7,
   "id": "2c728a0c-881b-49a1-bf10-3d9197539afe",
   "metadata": {},
   "outputs": [
    {
     "name": "stdout",
     "output_type": "stream",
     "text": [
      "Original:Counter({5: 545, 6: 510, 7: 159, 4: 42, 8: 15, 3: 8})\n",
      "Balanced:Counter({6: 545, 5: 545, 7: 545, 3: 545, 4: 545, 8: 545})\n"
     ]
    }
   ],
   "source": [
    "#balanced data\n",
    "sm = SMOTE(random_state=42)\n",
    "X_train_balanced,y_train_balanced = sm.fit_resample(X_train_scaled,y_train)\n",
    "print(f'Original:{Counter(y_train)}')\n",
    "print(f'Balanced:{Counter(y_train_balanced)}')"
   ]
  },
  {
   "cell_type": "code",
   "execution_count": 7,
   "id": "55051ac9-844a-4efd-a582-6b13d84036ec",
   "metadata": {},
   "outputs": [
    {
     "name": "stdout",
     "output_type": "stream",
     "text": [
      "RamdomForest - Accuracy: 0.862 (+/- 0.013)\n",
      "SVM - Accuracy: 0.756 (+/- 0.011)\n",
      "Best classifier:RamdomForest\n"
     ]
    }
   ],
   "source": [
    "#reselect classifier\n",
    "best_score = 0\n",
    "best_clf = None\n",
    "clf_name = ''\n",
    "for clf,name in zip([clf1,clf2],['RamdomForest','SVM',]):\n",
    "    scores = cross_val_score(clf,X_train_balanced,y_train_balanced,cv=crossV,scoring='accuracy')\n",
    "    mean_scores = scores.mean()\n",
    "    print(f\"{name} - Accuracy: {mean_scores:.3f} (+/- {scores.std():.3f})\")\n",
    "    if mean_scores>best_score:\n",
    "        best_score = mean_scores\n",
    "        best_clf = clf\n",
    "        clf_name = name\n",
    "\n",
    "print(f\"Best classifier:{clf_name}\")"
   ]
  },
  {
   "cell_type": "code",
   "execution_count": 8,
   "id": "2b6393c0-18d5-49ea-8b56-bb0dd25c075c",
   "metadata": {},
   "outputs": [
    {
     "name": "stdout",
     "output_type": "stream",
     "text": [
      "Classification Report:\n",
      "              precision    recall  f1-score   support\n",
      "\n",
      "           3       0.00      0.00      0.00         2\n",
      "           4       0.12      0.27      0.17        11\n",
      "           5       0.73      0.68      0.70       136\n",
      "           6       0.68      0.60      0.64       128\n",
      "           7       0.51      0.55      0.53        40\n",
      "           8       0.11      0.33      0.17         3\n",
      "\n",
      "    accuracy                           0.61       320\n",
      "   macro avg       0.36      0.41      0.37       320\n",
      "weighted avg       0.65      0.61      0.63       320\n",
      "\n"
     ]
    }
   ],
   "source": [
    "#Report performance\n",
    "best_clf.fit(X_train_balanced,y_train_balanced)\n",
    "y_b_pred = best_clf.predict(X_test_scaled)\n",
    "print(\"Classification Report:\")\n",
    "print(classification_report(y_test, y_b_pred)) "
   ]
  }
 ],
 "metadata": {
  "kernelspec": {
   "display_name": "Python 3 (ipykernel)",
   "language": "python",
   "name": "python3"
  },
  "language_info": {
   "codemirror_mode": {
    "name": "ipython",
    "version": 3
   },
   "file_extension": ".py",
   "mimetype": "text/x-python",
   "name": "python",
   "nbconvert_exporter": "python",
   "pygments_lexer": "ipython3",
   "version": "3.11.9"
  }
 },
 "nbformat": 4,
 "nbformat_minor": 5
}
